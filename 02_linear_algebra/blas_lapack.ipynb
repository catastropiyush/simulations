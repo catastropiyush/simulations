{
  "cells": [
    {
      "cell_type": "markdown",
      "metadata": {
        "id": "kKrEtw2fqayp"
      },
      "source": [
        "# BLAS and LAPACK\n",
        "\n",
        "We've seen a bit of dense linear algebra using numpy and scipy.  Now we're going to look under the hood.\n",
        "\n",
        "Regardless of what language you're using, chances are if you're doing numerical linear algebra, you are able to take advantage of libraries of code which implement most common linear algebra routines and factorizations.\n",
        "\n",
        "[Basic Linear Algebra Subprograms (BLAS)](https://www.netlib.org/blas/)\n",
        "\n",
        "[Linear Algebra PACKage (LAPACK)](https://www.netlib.org/lapack/)\n",
        "\n",
        "These libraries are wrapped by scipy, which exposes an interface.\n",
        "\n",
        "## Why should you care?\n",
        "\n",
        "First, you probably shouldn't be writing your own basic linear algebra routines if you can avoid it.\n",
        "1.  It takes time to write them\n",
        "2. Even if you know what you're doing, there's a chance you have a bug\n",
        "3. Performance optimization is involved\n",
        "\n",
        "It is entirely possible to do linear algebra in Python without ever worrying about the libraries under the hood.  However, maybe you are prototyping an algorithm in Python, and then want to write compiled/optimized code in C/fortran.  In this case, it is good to be able to translate what you're doing into BLAS/LAPACK routines.\n",
        "\n"
      ]
    },
    {
      "cell_type": "markdown",
      "metadata": {
        "id": "FIehj_38qayw"
      },
      "source": [
        "## View Your Configuration\n",
        "\n",
        "You can view what BLAS and LAPACK libraries NumPy is using"
      ]
    },
    {
      "cell_type": "code",
      "execution_count": 1,
      "metadata": {
        "id": "YPqpow1Aqayy",
        "outputId": "350721bd-d4c9-4d97-afdb-06afa92726df",
        "colab": {
          "base_uri": "https://localhost:8080/"
        }
      },
      "outputs": [
        {
          "output_type": "stream",
          "name": "stdout",
          "text": [
            "Populating the interactive namespace from numpy and matplotlib\n",
            "Build Dependencies:\n",
            "  blas:\n",
            "    detection method: pkgconfig\n",
            "    found: true\n",
            "    include directory: /usr/local/include\n",
            "    lib directory: /usr/local/lib\n",
            "    name: openblas64\n",
            "    openblas configuration: USE_64BITINT=1 DYNAMIC_ARCH=1 DYNAMIC_OLDER= NO_CBLAS=\n",
            "      NO_LAPACK= NO_LAPACKE= NO_AFFINITY=1 USE_OPENMP= HASWELL MAX_THREADS=2\n",
            "    pc file directory: /usr/local/lib/pkgconfig\n",
            "    version: 0.3.23.dev\n",
            "  lapack:\n",
            "    detection method: internal\n",
            "    found: true\n",
            "    include directory: unknown\n",
            "    lib directory: unknown\n",
            "    name: dep139863411681952\n",
            "    openblas configuration: unknown\n",
            "    pc file directory: unknown\n",
            "    version: 1.26.4\n",
            "Compilers:\n",
            "  c:\n",
            "    args: -fno-strict-aliasing\n",
            "    commands: cc\n",
            "    linker: ld.bfd\n",
            "    linker args: -Wl,--strip-debug, -fno-strict-aliasing\n",
            "    name: gcc\n",
            "    version: 10.2.1\n",
            "  c++:\n",
            "    commands: c++\n",
            "    linker: ld.bfd\n",
            "    linker args: -Wl,--strip-debug\n",
            "    name: gcc\n",
            "    version: 10.2.1\n",
            "  cython:\n",
            "    commands: cython\n",
            "    linker: cython\n",
            "    name: cython\n",
            "    version: 3.0.8\n",
            "Machine Information:\n",
            "  build:\n",
            "    cpu: x86_64\n",
            "    endian: little\n",
            "    family: x86_64\n",
            "    system: linux\n",
            "  host:\n",
            "    cpu: x86_64\n",
            "    endian: little\n",
            "    family: x86_64\n",
            "    system: linux\n",
            "Python Information:\n",
            "  path: /opt/python/cp310-cp310/bin/python\n",
            "  version: '3.10'\n",
            "SIMD Extensions:\n",
            "  baseline:\n",
            "  - SSE\n",
            "  - SSE2\n",
            "  - SSE3\n",
            "  found:\n",
            "  - SSSE3\n",
            "  - SSE41\n",
            "  - POPCNT\n",
            "  - SSE42\n",
            "  - AVX\n",
            "  - F16C\n",
            "  - FMA3\n",
            "  - AVX2\n",
            "  not found:\n",
            "  - AVX512F\n",
            "  - AVX512CD\n",
            "  - AVX512_KNL\n",
            "  - AVX512_KNM\n",
            "  - AVX512_SKX\n",
            "  - AVX512_CLX\n",
            "  - AVX512_CNL\n",
            "  - AVX512_ICL\n",
            "\n"
          ]
        }
      ],
      "source": [
        "%pylab inline\n",
        "import scipy as sp\n",
        "import scipy.linalg as la\n",
        "\n",
        "np.__config__.show()"
      ]
    },
    {
      "cell_type": "markdown",
      "metadata": {
        "id": "QtuNqkXSqay1"
      },
      "source": [
        "the above show the libraries `mkl_rt`, indicating that the system is using Intel's math kernel library (MKL) - this is a library of mathematical functions (including BLAS and LAPACK) which is optimized for Intel CPUs, and is the [default for Anaconda Python](https://docs.continuum.io/mkl-optimizations/)."
      ]
    },
    {
      "cell_type": "markdown",
      "metadata": {
        "id": "ubVvNR5Zqay2"
      },
      "source": [
        "You can do the same for scipy:"
      ]
    },
    {
      "cell_type": "code",
      "execution_count": 2,
      "metadata": {
        "id": "g7JBxGE7qay3",
        "outputId": "4fb70203-8dd7-4094-e1f9-1b29bfcead70",
        "colab": {
          "base_uri": "https://localhost:8080/"
        }
      },
      "outputs": [
        {
          "output_type": "stream",
          "name": "stdout",
          "text": [
            "Build Dependencies:\n",
            "  blas:\n",
            "    detection method: pkgconfig\n",
            "    found: true\n",
            "    include directory: /usr/local/include\n",
            "    lib directory: /usr/local/lib\n",
            "    name: openblas\n",
            "    openblas configuration: USE_64BITINT=0 DYNAMIC_ARCH=1 DYNAMIC_OLDER= NO_CBLAS=\n",
            "      NO_LAPACK= NO_LAPACKE= NO_AFFINITY=1 USE_OPENMP= ZEN MAX_THREADS=64\n",
            "    pc file directory: /usr/local/lib/pkgconfig\n",
            "    version: 0.3.27\n",
            "  lapack:\n",
            "    detection method: pkgconfig\n",
            "    found: true\n",
            "    include directory: /usr/local/include\n",
            "    lib directory: /usr/local/lib\n",
            "    name: openblas\n",
            "    openblas configuration: USE_64BITINT=0 DYNAMIC_ARCH=1 DYNAMIC_OLDER= NO_CBLAS=\n",
            "      NO_LAPACK= NO_LAPACKE= NO_AFFINITY=1 USE_OPENMP= ZEN MAX_THREADS=64\n",
            "    pc file directory: /usr/local/lib/pkgconfig\n",
            "    version: 0.3.27\n",
            "  pybind11:\n",
            "    detection method: config-tool\n",
            "    include directory: unknown\n",
            "    name: pybind11\n",
            "    version: 2.12.0\n",
            "Compilers:\n",
            "  c:\n",
            "    commands: cc\n",
            "    linker: ld.bfd\n",
            "    name: gcc\n",
            "    version: 10.2.1\n",
            "  c++:\n",
            "    commands: c++\n",
            "    linker: ld.bfd\n",
            "    name: gcc\n",
            "    version: 10.2.1\n",
            "  cython:\n",
            "    commands: cython\n",
            "    linker: cython\n",
            "    name: cython\n",
            "    version: 3.0.10\n",
            "  fortran:\n",
            "    commands: gfortran\n",
            "    linker: ld.bfd\n",
            "    name: gcc\n",
            "    version: 10.2.1\n",
            "  pythran:\n",
            "    include directory: ../../tmp/pip-build-env-mnl4e8vy/overlay/lib/python3.10/site-packages/pythran\n",
            "    version: 0.15.0\n",
            "Machine Information:\n",
            "  build:\n",
            "    cpu: x86_64\n",
            "    endian: little\n",
            "    family: x86_64\n",
            "    system: linux\n",
            "  cross-compiled: false\n",
            "  host:\n",
            "    cpu: x86_64\n",
            "    endian: little\n",
            "    family: x86_64\n",
            "    system: linux\n",
            "Python Information:\n",
            "  path: /opt/python/cp310-cp310/bin/python\n",
            "  version: '3.10'\n",
            "\n"
          ]
        }
      ],
      "source": [
        "sp.__config__.show()"
      ]
    },
    {
      "cell_type": "markdown",
      "metadata": {
        "id": "iRbWpJyjqay5"
      },
      "source": [
        "## BLAS Routines\n",
        "\n",
        "[scipy BLAS interface](https://docs.scipy.org/doc/scipy/reference/linalg.blas.html)\n",
        "\n",
        "BLAS implements *basic* linear algebra routines like dot product, matrix-vector product, and matrix-matrix product as well as triangular solves.\n",
        "\n",
        "It is written in Fortran, so will be easiest to use if you set the flag `order='F'` when constructing arrays"
      ]
    },
    {
      "cell_type": "code",
      "execution_count": 3,
      "metadata": {
        "id": "fo0cVf7Cqay6",
        "outputId": "4decd1a8-98a9-432c-a2ac-8325499efd2e",
        "colab": {
          "base_uri": "https://localhost:8080/"
        }
      },
      "outputs": [
        {
          "output_type": "execute_result",
          "data": {
            "text/plain": [
              "0.0"
            ]
          },
          "metadata": {},
          "execution_count": 3
        }
      ],
      "source": [
        "from scipy.linalg import blas\n",
        "\n",
        "n = 4096\n",
        "A = np.array(np.random.randn(n,n), order='F')\n",
        "B = np.array(np.random.randn(n,n), order='F')\n",
        "\n",
        "\n",
        "C_np = A @ B # numpy  C = A * B\n",
        "C_blas = blas.dgemm(1.0, A, B) # BLAS C = A * B\n",
        "np.linalg.norm(C_np - C_blas)"
      ]
    },
    {
      "cell_type": "code",
      "execution_count": 4,
      "metadata": {
        "id": "XQks6AfEqay8",
        "outputId": "07262e76-4ced-4b9a-e667-4e5803e1a90b",
        "colab": {
          "base_uri": "https://localhost:8080/"
        }
      },
      "outputs": [
        {
          "output_type": "stream",
          "name": "stdout",
          "text": [
            "6.96 s ± 914 ms per loop (mean ± std. dev. of 7 runs, 1 loop each)\n"
          ]
        }
      ],
      "source": [
        "%timeit C_np = np.matmul(A,B) # numpy"
      ]
    },
    {
      "cell_type": "code",
      "execution_count": 5,
      "metadata": {
        "id": "4NDOkI8Nqay_",
        "outputId": "1ba2a8a5-1693-46bf-f0c3-9031ff5c3b1d",
        "colab": {
          "base_uri": "https://localhost:8080/"
        }
      },
      "outputs": [
        {
          "output_type": "stream",
          "name": "stdout",
          "text": [
            "4.79 s ± 627 ms per loop (mean ± std. dev. of 7 runs, 1 loop each)\n"
          ]
        }
      ],
      "source": [
        "%timeit C_blas = blas.dgemm(1.0, A, B) # blas"
      ]
    },
    {
      "cell_type": "markdown",
      "metadata": {
        "id": "dx2-sN-gqazA"
      },
      "source": [
        "### BLAS Naming Conventions\n",
        "\n",
        "BLAS functions have short names (like `dgemm`) that look a little cryptic at first.  There is a pattern to the names though.  See [here](https://software.intel.com/content/www/us/en/develop/documentation/mkl-developer-reference-fortran/top/blas-and-sparse-blas-routines/blas-routines/naming-conventions-for-blas-routines.html) for reference.\n",
        "\n",
        "```\n",
        "blas.<character><name><mod>\n",
        "```\n",
        "\n",
        "The `<character>` field can be\n",
        "1. `s`: single precision float\n",
        "2. `d`: double precision float\n",
        "3. `c`: single precision complex float\n",
        "4. `z`: double precision complex float\n",
        "\n",
        "The `<name>` field indicate either the operation type, or matrix type.\n",
        "\n",
        "The `<mod>` field indicates additional details about the operation.\n",
        "\n",
        "For example, `dgemm = d + ge + mm` has `d` as the `<character>`, `ge` for `<name>` (general matrix), and `mm` for `<mod>` (matrix multiplication)."
      ]
    },
    {
      "cell_type": "markdown",
      "metadata": {
        "id": "8kj4DSkdqazA"
      },
      "source": [
        "### BLAS Levels\n",
        "\n",
        "BLAS is split up into 3 conceptual levels\n",
        "1. Level 1 - vector-vector operations\n",
        "2. Level 2 - matrix-vector operations\n",
        "3. Level 3 - matrix-matrix operations\n",
        "\n",
        "Level 3 operations are most efficient, since they can take the most advantage of memory performance optimizations e.g. minimizing cache misses."
      ]
    },
    {
      "cell_type": "markdown",
      "metadata": {
        "id": "9ARRPWLXqazB"
      },
      "source": [
        "#### FLOPS\n",
        "\n",
        "FLOPS are Floating-Point Operations Per Second, and are one way to measure the power of numerical code.  Floating point operations are counted as the number of `+, *, /, -` applied to floating point numbers.\n",
        "* A human is capable of <1 flop\n",
        "* Your CPU is probably capable of several Giga-flops ($10^9$)\n",
        "* A high end GPU will be measured in Tera-flops ($10^{12}$)\n",
        "* Super computers are mostly O(100) Peta-flops ($10^{17}$).  Some are close to an Exa-flop ($10^{18}$)"
      ]
    },
    {
      "cell_type": "markdown",
      "metadata": {
        "id": "Wd7AYDsUqazI"
      },
      "source": [
        "#### BLAS Level 1\n",
        "\n",
        "Some vector-vector operations (insert the appropriate `<character>`)\n",
        "1. [`axpy`](https://docs.scipy.org/doc/scipy/reference/generated/scipy.linalg.blas.daxpy.html) ($a x + y$)\n",
        "2. [`dot`](https://docs.scipy.org/doc/scipy/reference/generated/scipy.linalg.blas.ddot.html) (dot product $x^H x$)\n",
        "3. [`nrm2`](https://docs.scipy.org/doc/scipy/reference/generated/scipy.linalg.blas.dnrm2.html) ($\\|x\\|_2$)\n",
        "\n",
        "See [the SciPy BLAS reference](https://docs.scipy.org/doc/scipy/reference/linalg.blas.html#blas-level-1-functions)"
      ]
    },
    {
      "cell_type": "code",
      "execution_count": 6,
      "metadata": {
        "id": "14Pb6u5WqazI",
        "outputId": "3cc7b63d-c8c8-4ae1-ab3e-13cc8fcbffa9",
        "colab": {
          "base_uri": "https://localhost:8080/"
        }
      },
      "outputs": [
        {
          "output_type": "execute_result",
          "data": {
            "text/plain": [
              "0.0"
            ]
          },
          "metadata": {},
          "execution_count": 6
        }
      ],
      "source": [
        "n = 1000\n",
        "x = np.random.rand(n)\n",
        "y = np.random.rand(n)\n",
        "\n",
        "z = blas.daxpy(x, y, a=1.0)\n",
        "xx = blas.ddot(x, x)\n",
        "x2 = blas.dnrm2(x)\n",
        "np.sqrt(xx) - x2"
      ]
    },
    {
      "cell_type": "code",
      "execution_count": 7,
      "metadata": {
        "id": "VCLslki6qazK"
      },
      "outputs": [],
      "source": [
        "import time"
      ]
    },
    {
      "cell_type": "code",
      "execution_count": 8,
      "metadata": {
        "id": "ZYZRNqPXqazK",
        "outputId": "dd312940-925a-4147-f197-73332dbf4717",
        "colab": {
          "base_uri": "https://localhost:8080/"
        }
      },
      "outputs": [
        {
          "output_type": "stream",
          "name": "stdout",
          "text": [
            "measuring BLAS Level 1 flops using <class 'numpy.float32'>\n",
            "time elapsed = 0.012787342071533203 sec.\n",
            "1.564047e+09 FLOPS\n"
          ]
        }
      ],
      "source": [
        "# measure FLOPs of fdot\n",
        "n = 10_000_000\n",
        "dtype = np.float32\n",
        "x = np.array(np.random.randn(n), dtype=dtype)\n",
        "y = np.array(np.random.randn(n), dtype=dtype)\n",
        "print(\"measuring BLAS Level 1 flops using {}\".format(dtype))\n",
        "t0 = time.time()\n",
        "xy = blas.sdot(x,y)\n",
        "t1 = time.time()\n",
        "print(\"time elapsed = {} sec.\".format(t1 - t0))\n",
        "flops = (2*n) / (t1 - t0) # 2N FLOP for dot - one multiplication and one addition per entry\n",
        "print(\"{:e} FLOPS\".format(flops))"
      ]
    },
    {
      "cell_type": "markdown",
      "metadata": {
        "id": "nVxWKfivqazK"
      },
      "source": [
        "This is consistent with a CPU running at ~3 GHz"
      ]
    },
    {
      "cell_type": "markdown",
      "metadata": {
        "id": "IymaK967qazK"
      },
      "source": [
        "#### BLAS Level 2\n",
        "\n",
        "Some matrix-vector operations (insert appropriate `<character>`)\n",
        "\n",
        "1. [`gemv`](https://docs.scipy.org/doc/scipy/reference/generated/scipy.linalg.blas.dgemv.html#scipy.linalg.blas.dgemv) $\\alpha A x$\n",
        "2. [`trsv`](https://docs.scipy.org/doc/scipy/reference/generated/scipy.linalg.blas.dtrsv.html#scipy.linalg.blas.dtrsv) $L^{-1} x$ (triangular solve)\n",
        "3. [`trmv`](https://docs.scipy.org/doc/scipy/reference/generated/scipy.linalg.blas.strmv.html#scipy.linalg.blas.strmv) $L x$ (triangular matrix-vector product)\n",
        "\n",
        "See [the SciPy BLAS reference](https://docs.scipy.org/doc/scipy/reference/linalg.blas.html#blas-level-2-functions)"
      ]
    },
    {
      "cell_type": "code",
      "execution_count": 9,
      "metadata": {
        "id": "O1XqWVUqqazK",
        "outputId": "f9bae80b-8d64-4658-96bc-12dd218c8576",
        "colab": {
          "base_uri": "https://localhost:8080/"
        }
      },
      "outputs": [
        {
          "output_type": "stream",
          "name": "stdout",
          "text": [
            "measuring BLAS Level 2 flops using <class 'numpy.float32'>\n",
            "time elapsed = 0.22038793563842773 sec.\n",
            "1.522517e+08 FLOPS\n"
          ]
        }
      ],
      "source": [
        "# measure FLOPs of gemv\n",
        "n = 4096\n",
        "dtype = np.float32\n",
        "A = np.array(np.random.randn(n, n), dtype=dtype)\n",
        "x = np.array(np.random.randn(n), dtype=dtype)\n",
        "print(\"measuring BLAS Level 2 flops using {}\".format(dtype))\n",
        "t0 = time.time()\n",
        "y = blas.sgemv(1.0, A, x)\n",
        "t1 = time.time()\n",
        "print(\"time elapsed = {} sec.\".format(t1 - t0))\n",
        "flops = (2 * n**2) / (t1 - t0) # 2 n**2 FLOP - one multiplication and one addition per entry of A\n",
        "print(\"{:e} FLOPS\".format(flops))"
      ]
    },
    {
      "cell_type": "markdown",
      "metadata": {
        "id": "DGCNUwaDqazM"
      },
      "source": [
        "#### BLAS Level 3\n",
        "\n",
        "Some matrix-matrix operations (insert appropriate `<character>`)\n",
        "\n",
        "1. [`gemm`](https://docs.scipy.org/doc/scipy/reference/generated/scipy.linalg.blas.dgemm.html#scipy.linalg.blas.dgemm) $\\alpha AB$\n",
        "2. [`syrk`](https://docs.scipy.org/doc/scipy/reference/generated/scipy.linalg.blas.dsyrk.html#scipy.linalg.blas.dsyrk) $\\alpha A A^T$\n",
        "3. [`trmm`](https://docs.scipy.org/doc/scipy/reference/generated/scipy.linalg.blas.dtrmm.html#scipy.linalg.blas.dtrmm) $\\alpha L_1 L_2$ (triangular multiplication)\n",
        "\n",
        "See the [SciPy BLAS reference](https://docs.scipy.org/doc/scipy/reference/linalg.blas.html#blas-level-3-functions)"
      ]
    },
    {
      "cell_type": "code",
      "execution_count": 10,
      "metadata": {
        "id": "HC6u_KrJqazM",
        "outputId": "a161ee93-7460-453a-9e17-8e1146c898ed",
        "colab": {
          "base_uri": "https://localhost:8080/"
        }
      },
      "outputs": [
        {
          "output_type": "stream",
          "name": "stdout",
          "text": [
            "measuring BLAS Level 3 flops using <class 'numpy.float32'>\n",
            "time elapsed = 2.4508888721466064 sec.\n",
            "5.607719e+10 FLOPS\n"
          ]
        }
      ],
      "source": [
        "# measure FLOPs of gemm\n",
        "n = 4096\n",
        "dtype = np.float32\n",
        "A = np.array(np.random.randn(n, n), dtype=dtype)\n",
        "B = np.array(np.random.randn(n, n), dtype=dtype)\n",
        "print(\"measuring BLAS Level 3 flops using {}\".format(dtype))\n",
        "t0 = time.time()\n",
        "C = blas.sgemm(1.0, A, B)\n",
        "t1 = time.time()\n",
        "print(\"time elapsed = {} sec.\".format(t1 - t0))\n",
        "flops = (2 * n**3) / (t1 - t0) # 2 n**3 FLOP - n multiplications and additions per entry of C\n",
        "print(\"{:e} FLOPS\".format(flops))"
      ]
    },
    {
      "cell_type": "markdown",
      "metadata": {
        "id": "ri8Wlaf0qazM"
      },
      "source": [
        "From our experminets, we see that the BLAS level 3 operation gives us the most FLOPS."
      ]
    },
    {
      "cell_type": "markdown",
      "metadata": {
        "id": "yOn7MGBAqazN"
      },
      "source": [
        "## LAPACK Routines\n",
        "\n",
        "[scipy LAPACK interface](https://docs.scipy.org/doc/scipy/reference/linalg.lapack.html)"
      ]
    },
    {
      "cell_type": "code",
      "execution_count": 11,
      "metadata": {
        "id": "dZL4YgwLqazN"
      },
      "outputs": [],
      "source": [
        "from scipy.linalg import lapack"
      ]
    },
    {
      "cell_type": "markdown",
      "metadata": {
        "id": "2zbAUL5-qazN"
      },
      "source": [
        "LAPACK is a library of linear algebra routines that go beyond basic operations.  These include routines for various factorizations and eigenvalue and singular value decompositions.\n",
        "\n",
        "Again, the names are a bit cryptic, and it is worth searching online (and reading documentation) to figure out how to call the right functions.\n",
        "\n",
        "### Example: Obtain a orthonormal basis for columns of a matrix\n",
        "\n",
        "In a variety of situations it is convenient to be able to obtain an orthonormal basis for columns of a matrix `A` (e.g. subspace iteration, randomized numerical linear algebra).  One way to do this is to use the QR decomposition:"
      ]
    },
    {
      "cell_type": "code",
      "execution_count": 12,
      "metadata": {
        "id": "bSmohJ2BqazN",
        "outputId": "1fc2eb32-3074-4c79-c1cc-06278ba29477",
        "colab": {
          "base_uri": "https://localhost:8080/"
        }
      },
      "outputs": [
        {
          "output_type": "stream",
          "name": "stdout",
          "text": [
            "(1000, 100)\n",
            "4.225444383430174e-15\n"
          ]
        }
      ],
      "source": [
        "m = 1000\n",
        "n = 100\n",
        "A = np.array(np.random.randn(m, n), order='F')\n",
        "\n",
        "def get_Q_qr(A):\n",
        "    Q, R = la.qr(A, mode='economic')\n",
        "    return Q\n",
        "\n",
        "Q = get_Q_qr(A)\n",
        "\n",
        "print(Q.shape)\n",
        "print(np.linalg.norm(Q.T @ Q - np.eye(n))) # measure how close Q is to orthogonal"
      ]
    },
    {
      "cell_type": "markdown",
      "metadata": {
        "id": "I_fodW6lqazO"
      },
      "source": [
        "We can get this using LAPACK routines as well:"
      ]
    },
    {
      "cell_type": "code",
      "execution_count": 13,
      "metadata": {
        "id": "Sgw2YjvJqazO",
        "outputId": "a49b4fcb-b294-436d-f40a-95e468529a90",
        "colab": {
          "base_uri": "https://localhost:8080/"
        }
      },
      "outputs": [
        {
          "output_type": "stream",
          "name": "stdout",
          "text": [
            "(1000, 100)\n",
            "4.1695759733668806e-15\n"
          ]
        }
      ],
      "source": [
        "def get_Q_lapack(A):\n",
        "    qr, tau, work, info = lapack.dgeqrf(A)\n",
        "    Q, work, info = lapack.dorgqr(qr, tau)\n",
        "    return Q\n",
        "\n",
        "A = np.array(np.random.randn(m, n), order='F')\n",
        "Q = get_Q_lapack(A)\n",
        "\n",
        "print(Q.shape)\n",
        "print(np.linalg.norm(Q.T @ Q - np.eye(n))) # measure how close Q is to orthogonal"
      ]
    },
    {
      "cell_type": "markdown",
      "metadata": {
        "id": "3lWMGA1bqazP"
      },
      "source": [
        "You can also do many LAPACK (and BLAS) routines in-place, meaning you can overwrite the matrix.  This saves time used for memory allocation"
      ]
    },
    {
      "cell_type": "code",
      "execution_count": 14,
      "metadata": {
        "id": "t0ckME63qazP",
        "outputId": "69e27e4e-0b13-4f3f-af93-ba6856fb9f96",
        "colab": {
          "base_uri": "https://localhost:8080/"
        }
      },
      "outputs": [
        {
          "output_type": "stream",
          "name": "stdout",
          "text": [
            "(1000, 100)\n",
            "4.349967906377366e-15\n",
            "0.0\n"
          ]
        }
      ],
      "source": [
        "def get_Q_inplace(A):\n",
        "    m, n = A.shape\n",
        "    lwork = max(3*n, 1)\n",
        "    qr, tau, work, info = lapack.dgeqrf(A, lwork, 1) # overwrite A = True\n",
        "    Q, work, info = lapack.dorgqr(qr, tau, lwork, 1) # overwrite qr = True\n",
        "    return Q\n",
        "\n",
        "A = np.array(np.random.randn(m, n), order='F')\n",
        "Q = get_Q_inplace(A)\n",
        "\n",
        "print(Q.shape)\n",
        "print(np.linalg.norm(Q.T @ Q - np.eye(n))) # measure how close Q is to orthogonal\n",
        "print(np.linalg.norm(A - Q)) # A now contains Q"
      ]
    },
    {
      "cell_type": "code",
      "execution_count": 15,
      "metadata": {
        "id": "QR-_RFUEqazP",
        "outputId": "c5013b48-7863-49c0-b1b7-8617f1fd598a",
        "colab": {
          "base_uri": "https://localhost:8080/"
        }
      },
      "outputs": [
        {
          "output_type": "stream",
          "name": "stdout",
          "text": [
            "timing <function get_Q_qr at 0x7e95cd1327a0>\n",
            "  time elapsed = 0.08739638328552246 sec.\n",
            "timing <function get_Q_lapack at 0x7e95cd133880>\n",
            "  time elapsed = 0.06744122505187988 sec.\n",
            "timing <function get_Q_inplace at 0x7e95cd133c70>\n",
            "  time elapsed = 0.051262617111206055 sec.\n"
          ]
        }
      ],
      "source": [
        "m = 4096\n",
        "n = 128\n",
        "\n",
        "for get_Q in (get_Q_qr, get_Q_lapack, get_Q_inplace):\n",
        "\n",
        "    print(\"timing {}\".format(get_Q))\n",
        "    A = np.array(np.random.randn(m, n), order='F')\n",
        "    t0 = time.time()\n",
        "    Q = get_Q(A)\n",
        "    t1 = time.time()\n",
        "    print(\"  time elapsed = {} sec.\".format(t1 - t0))"
      ]
    },
    {
      "cell_type": "markdown",
      "metadata": {
        "id": "3sQjx0eGqazQ"
      },
      "source": [
        "As we see, the in-place version is fastest."
      ]
    },
    {
      "cell_type": "markdown",
      "metadata": {
        "id": "eGpnvq9fqazQ"
      },
      "source": [
        "## Exercise\n",
        "\n",
        "One way to get the top `k`-dimensional eigenspace (eigenpace with k-largest eigenvalues) is using a subspace version of the power method.  Here is some pseudocode:\n",
        "```\n",
        "\n",
        "# get top k-dimensional eigenspace of symmetric matrix A\n",
        "m, n = A.shape # m should equal n\n",
        "Q = random n x k matrix\n",
        "Q, R = qr(Q) # orthogonalize\n",
        "for some number of iterations:\n",
        "    Q = A @ Q\n",
        "    Q, R = qr(Q) # re-othogonalize\n",
        "    \n",
        "return Q\n",
        "```\n",
        "\n",
        "Implement a function that realizes this algorithm.  Use BLAS to implement matrix-matrix multiplication, and use LAPACK to do the orthogonalization of Q.\n",
        "\n",
        "Compare this to the span of the top-k eigenvectors of `A` obtained via `eigh`."
      ]
    },
    {
      "cell_type": "code",
      "source": [
        "import numpy as np\n",
        "def subspace_iter(A, k, num_iter=10):\n",
        "  m, n = A.shape\n",
        "  Q = np.array(np.random.randn(n, k), order='F')\n",
        "\n",
        "  #orthogonalize\n",
        "  qr, tau, work, info = lapack.dgeqrf(Q)\n",
        "  Q, work, info = lapack.dorgqr(qr, tau)\n",
        "\n",
        "  for i in range(num_iter):\n",
        "    Q = blas.dgemm(1.0, A, Q)\n",
        "    #re-orthogonalize\n",
        "    qr, tau, work, info = lapack.dgeqrf(Q)\n",
        "    Q, work, info = lapack.dorgqr(qr, tau)\n",
        "\n",
        "  return Q\n"
      ],
      "metadata": {
        "id": "UHwxifIIrjY2"
      },
      "execution_count": 18,
      "outputs": []
    },
    {
      "cell_type": "code",
      "source": [
        "import numpy as np\n",
        "n = 1000\n",
        "k = 10\n",
        "A = np.random.randn(n, n)\n",
        "A = A + A.T # make symmetric\n",
        "\n",
        "Q_si = subspace_iter(A, k, num_iter=100)\n",
        "\n",
        "from scipy.linalg import eigh\n",
        "\n",
        "evals, evecs = eigh(A)\n",
        "Q_eigh = evecs[:, -k:]\n",
        "\n",
        "# measure the distance between the subspaces\n",
        "from numpy.linalg import svd\n",
        "U, S, VT = svd(Q_eigh.T @ Q_si)\n",
        "print(\"distance between subspaces = \", np.sqrt(1 - S[-1]**2))\n"
      ],
      "metadata": {
        "id": "SGRxUTD3rzT7",
        "outputId": "0d39071e-41f1-4704-c158-578f8e7001bf",
        "colab": {
          "base_uri": "https://localhost:8080/"
        }
      },
      "execution_count": 19,
      "outputs": [
        {
          "output_type": "stream",
          "name": "stdout",
          "text": [
            "distance between subspaces =  0.999999890497413\n"
          ]
        }
      ]
    },
    {
      "cell_type": "code",
      "execution_count": 16,
      "metadata": {
        "id": "jKaaf0mNqazQ"
      },
      "outputs": [],
      "source": [
        "## Your Code here\n"
      ]
    },
    {
      "cell_type": "markdown",
      "metadata": {
        "id": "ZJoDsT30qazR"
      },
      "source": [
        "## Exercise\n",
        "\n",
        "Implement a version of `solve` for a square matrix `A` which uses LAPACK for the LU decomposition, and BLAS for the triangular solves.  You may want to look at [dgetrf](https://docs.scipy.org/doc/scipy/reference/generated/scipy.linalg.lapack.dgetrf.html#scipy.linalg.lapack.dgetrf) (the `lu` return object has L in the lower triangular part, and U in the upper triangular part)"
      ]
    },
    {
      "cell_type": "code",
      "source": [
        "import numpy as np\n",
        "def solve_lu(A, b):\n",
        "  lu, piv, info = lapack.dgetrf(A)\n",
        "  x = lapack.dgetrs(lu, piv, b)[0]\n",
        "  return x\n",
        "\n",
        "n = 1000\n",
        "A = np.array(np.random.randn(n, n), order='F')\n",
        "b = np.random.randn(n)\n",
        "\n",
        "x_lu = solve_lu(A.copy(), b.copy()) # make copies since dgetrf overwrites A\n",
        "x_np = np.linalg.solve(A, b)\n",
        "\n",
        "np.linalg.norm(x_lu - x_np)\n"
      ],
      "metadata": {
        "id": "eSss5kAgr7jJ",
        "outputId": "58c49cfb-fd53-4b3c-e5f7-cca5ad0de224",
        "colab": {
          "base_uri": "https://localhost:8080/"
        }
      },
      "execution_count": 20,
      "outputs": [
        {
          "output_type": "execute_result",
          "data": {
            "text/plain": [
              "0.0"
            ]
          },
          "metadata": {},
          "execution_count": 20
        }
      ]
    },
    {
      "cell_type": "code",
      "execution_count": 17,
      "metadata": {
        "id": "ePpj6QaQqazR"
      },
      "outputs": [],
      "source": [
        "## Your code here\n"
      ]
    }
  ],
  "metadata": {
    "kernelspec": {
      "display_name": "Python (pycourse)",
      "language": "python",
      "name": "pycourse"
    },
    "language_info": {
      "codemirror_mode": {
        "name": "ipython",
        "version": 3
      },
      "file_extension": ".py",
      "mimetype": "text/x-python",
      "name": "python",
      "nbconvert_exporter": "python",
      "pygments_lexer": "ipython3",
      "version": "3.8.3"
    },
    "colab": {
      "provenance": []
    }
  },
  "nbformat": 4,
  "nbformat_minor": 0
}